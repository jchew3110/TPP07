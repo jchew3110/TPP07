{
 "cells": [
  {
   "cell_type": "markdown",
   "id": "81110757",
   "metadata": {},
   "source": [
    "# The Data"
   ]
  },
  {
   "cell_type": "markdown",
   "id": "f0b4cf10",
   "metadata": {},
   "source": [
    "This data came from a theoretical DATA3406 Test Sheet"
   ]
  },
  {
   "cell_type": "markdown",
   "id": "d925eb2c",
   "metadata": {},
   "source": [
    "# Gaining familiarity"
   ]
  },
  {
   "cell_type": "markdown",
   "id": "ecb189f6",
   "metadata": {},
   "source": [
    "Importing libraries and data. Looking at first few values.\n",
    "I chose to scrap the data directly without setting up an API as I am short on time."
   ]
  },
  {
   "cell_type": "code",
   "execution_count": null,
   "id": "227ac181",
   "metadata": {},
   "outputs": [],
   "source": [
    "import pandas as pd"
   ]
  },
  {
   "cell_type": "code",
   "execution_count": null,
   "id": "5304d965",
   "metadata": {},
   "outputs": [],
   "source": [
    "url_marks = f\"https://docs.google.com/spreadsheets/d/1_KCKLjsclFlfFBjlpe4WboSq9Jct9IxKlHOvCtU8_LQ/edit#gid=0\"\n",
    "url_des = f\"https://docs.google.com/spreadsheets/d/1_KCKLjsclFlfFBjlpe4WboSq9Jct9IxKlHOvCtU8_LQ/edit#gid=2025149705\"\n",
    "url_adj = f\"https://docs.google.com/spreadsheets/d/1_KCKLjsclFlfFBjlpe4WboSq9Jct9IxKlHOvCtU8_LQ/edit#gid=1372062855\"\n",
    "marks = url_marks.replace('/edit#gid=', '/export?format=csv&gid=')\n",
    "description = url_des.replace('/edit#gid=', '/export?format=csv&gid=')\n",
    "adjustment = url_adj.replace('/edit#gid=', '/export?format=csv&gid=')\n",
    "marks_df = pd.read_csv(marks, sep=\",\")\n",
    "description_df = pd.read_csv(description, sep=\",\")\n",
    "adjustment_df = pd.read_csv(adjustment, sep=\",\")"
   ]
  },
  {
   "cell_type": "code",
   "execution_count": null,
   "id": "bf5cefcd",
   "metadata": {},
   "outputs": [],
   "source": [
    "marks_df.describe()"
   ]
  },
  {
   "cell_type": "code",
   "execution_count": null,
   "id": "f0cf8ffb",
   "metadata": {},
   "outputs": [],
   "source": [
    "marks_df.head()"
   ]
  },
  {
   "cell_type": "code",
   "execution_count": null,
   "id": "822633d3",
   "metadata": {},
   "outputs": [],
   "source": [
    "description_df.describe()"
   ]
  },
  {
   "cell_type": "code",
   "execution_count": null,
   "id": "4f894d78",
   "metadata": {},
   "outputs": [],
   "source": [
    "description_df.head()"
   ]
  },
  {
   "cell_type": "code",
   "execution_count": null,
   "id": "ba4a3221",
   "metadata": {},
   "outputs": [],
   "source": [
    "adjustment_df.describe()"
   ]
  },
  {
   "cell_type": "code",
   "execution_count": null,
   "id": "c2ac914d",
   "metadata": {},
   "outputs": [],
   "source": [
    "adjustment_df.head()"
   ]
  },
  {
   "cell_type": "markdown",
   "id": "d06e5855",
   "metadata": {},
   "source": [
    "# clean the data to deal with the problems described in the workshop (Document reasoning)"
   ]
  },
  {
   "cell_type": "markdown",
   "id": "7c7fee81",
   "metadata": {},
   "source": [
    "1. Deal with missing values. I have decided to subsitute missing values with NaN and will void these lines for any exploratory analyses. This is because we don't want completely delete these rows as they could become useful later on. We also have a small sample size. "
   ]
  },
  {
   "cell_type": "code",
   "execution_count": null,
   "id": "4e589fe9",
   "metadata": {},
   "outputs": [],
   "source": [
    "marks_df.replace(r'^\\s*$', np.nan, regex=True)"
   ]
  },
  {
   "cell_type": "markdown",
   "id": "debbe993",
   "metadata": {},
   "source": [
    "2. Deal with outliers. Typically we would void extreme outliers but due to the adjustment dataset which we explored above we shall change the SID 19007's M2 score to 90 to be consistent with that adjustment."
   ]
  },
  {
   "cell_type": "code",
   "execution_count": null,
   "id": "ae079e3a",
   "metadata": {},
   "outputs": [],
   "source": [
    "marks_df.replace({'M2': 19007}, 90)"
   ]
  },
  {
   "cell_type": "markdown",
   "id": "f6a5f105",
   "metadata": {},
   "source": [
    "# Exploratory Data Analysis"
   ]
  },
  {
   "cell_type": "code",
   "execution_count": null,
   "id": "5a8bd43b",
   "metadata": {},
   "outputs": [],
   "source": []
  },
  {
   "cell_type": "markdown",
   "id": "11e93eee",
   "metadata": {},
   "source": [
    "# Confirmatory data analysis"
   ]
  },
  {
   "cell_type": "code",
   "execution_count": null,
   "id": "ae0308b6",
   "metadata": {},
   "outputs": [],
   "source": []
  }
 ],
 "metadata": {
  "kernelspec": {
   "display_name": "Python 3 (ipykernel)",
   "language": "python",
   "name": "python3"
  },
  "language_info": {
   "codemirror_mode": {
    "name": "ipython",
    "version": 3
   },
   "file_extension": ".py",
   "mimetype": "text/x-python",
   "name": "python",
   "nbconvert_exporter": "python",
   "pygments_lexer": "ipython3",
   "version": "3.8.11"
  }
 },
 "nbformat": 4,
 "nbformat_minor": 5
}
